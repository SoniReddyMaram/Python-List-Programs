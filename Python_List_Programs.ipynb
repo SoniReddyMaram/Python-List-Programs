{
  "nbformat": 4,
  "nbformat_minor": 0,
  "metadata": {
    "colab": {
      "provenance": []
    },
    "kernelspec": {
      "name": "python3",
      "display_name": "Python 3"
    },
    "language_info": {
      "name": "python"
    }
  },
  "cells": [
    {
      "cell_type": "markdown",
      "source": [
        "# Creating a List in Python"
      ],
      "metadata": {
        "id": "0RCou58BCSyS"
      }
    },
    {
      "cell_type": "code",
      "source": [
        "list = [10,20,30,40]\n",
        "print(\"\\nThe list of numbers are: \")\n",
        "print(list)"
      ],
      "metadata": {
        "colab": {
          "base_uri": "https://localhost:8080/"
        },
        "id": "9FzsScVMBgUi",
        "outputId": "c39a7e38-5c8b-4c67-cb02-790c6f11e2c3"
      },
      "execution_count": 6,
      "outputs": [
        {
          "output_type": "stream",
          "name": "stdout",
          "text": [
            "\n",
            "The list of numbers are: \n",
            "[10, 20, 30, 40]\n"
          ]
        }
      ]
    },
    {
      "cell_type": "markdown",
      "source": [
        "# Accessing elements from the List\n"
      ],
      "metadata": {
        "id": "AoS3Y7jZCN9W"
      }
    },
    {
      "cell_type": "code",
      "source": [
        "List2 = ['Soni', 'Reddy']\n",
        "print(\"\\nThe Items: \")\n",
        "print(List2[0])\n",
        "print(List2[1])"
      ],
      "metadata": {
        "colab": {
          "base_uri": "https://localhost:8080/"
        },
        "id": "nO_Bwd7CBjCg",
        "outputId": "bbfcff91-176b-41e5-d731-b8877e2e564b"
      },
      "execution_count": 7,
      "outputs": [
        {
          "output_type": "stream",
          "name": "stdout",
          "text": [
            "\n",
            "The Items: \n",
            "Soni\n",
            "Reddy\n"
          ]
        }
      ]
    },
    {
      "cell_type": "markdown",
      "source": [
        "# Accessing elements from a multi-dimensional list"
      ],
      "metadata": {
        "id": "TB6BkPvRCKEV"
      }
    },
    {
      "cell_type": "code",
      "source": [
        "list3 = [['Soni', 'Reddy', ],['lakshmi']]\n",
        "print(\"\\nThe list of Items: \")\n",
        "print(list3)\n",
        "print(list3[0][0])\n",
        "print(list3[0][1])\n",
        "print(list3[1][0])"
      ],
      "metadata": {
        "colab": {
          "base_uri": "https://localhost:8080/"
        },
        "id": "HXy8eVBaBlux",
        "outputId": "217db360-3039-48a8-847f-d9f722f0f6f9"
      },
      "execution_count": 8,
      "outputs": [
        {
          "output_type": "stream",
          "name": "stdout",
          "text": [
            "\n",
            "The list of Items: \n",
            "[['Soni', 'Reddy'], ['lakshmi']]\n",
            "Soni\n",
            "Reddy\n",
            "lakshmi\n"
          ]
        }
      ]
    },
    {
      "cell_type": "markdown",
      "source": [
        "#Negative Indexing"
      ],
      "metadata": {
        "id": "ljFOAw5GCC6L"
      }
    },
    {
      "cell_type": "code",
      "source": [
        "list4 = ['Python', 'Practice', 'List', 'of', 'Programs']\n",
        "print(list4[-1])\n",
        "print(list4[-3])"
      ],
      "metadata": {
        "colab": {
          "base_uri": "https://localhost:8080/"
        },
        "id": "Z8OXDHz9BoS6",
        "outputId": "472224bc-0088-4aa1-8d7c-65693fc51a4d"
      },
      "execution_count": 9,
      "outputs": [
        {
          "output_type": "stream",
          "name": "stdout",
          "text": [
            "Programs\n",
            "List\n"
          ]
        }
      ]
    },
    {
      "cell_type": "markdown",
      "source": [
        "# Getting the size of Python list"
      ],
      "metadata": {
        "id": "BLo_WltkB-NG"
      }
    },
    {
      "cell_type": "code",
      "source": [
        "list1 = [4,6,7,6,8,5,7]\n",
        "result = len(list1)\n",
        "print(\"The length of the list1 is:\", result)"
      ],
      "metadata": {
        "colab": {
          "base_uri": "https://localhost:8080/"
        },
        "id": "nPjkTMLmBrEL",
        "outputId": "184224d2-9170-4f74-d60e-4ad641c830c2"
      },
      "execution_count": 10,
      "outputs": [
        {
          "output_type": "stream",
          "name": "stdout",
          "text": [
            "The length of the list1 is: 7\n"
          ]
        }
      ]
    },
    {
      "cell_type": "markdown",
      "source": [
        "# Taking Input of a Python List"
      ],
      "metadata": {
        "id": "wu76QoF6B74E"
      }
    },
    {
      "cell_type": "code",
      "source": [
        "string = input(\"Enter elements (seperated by space): \")\n",
        "list5 = string.split()\n",
        "print(\"The list of elements is: \", list5)"
      ],
      "metadata": {
        "colab": {
          "base_uri": "https://localhost:8080/"
        },
        "id": "rRlSlp7LBtj9",
        "outputId": "6acf4d41-741c-4791-b687-21a9b228f94a"
      },
      "execution_count": 12,
      "outputs": [
        {
          "output_type": "stream",
          "name": "stdout",
          "text": [
            "Enter elements (seperated by space): python programming language\n",
            "The list of elements is:  ['python', 'programming', 'language']\n"
          ]
        }
      ]
    },
    {
      "cell_type": "markdown",
      "source": [
        "# Adding Elements to a Python List\n",
        "\n",
        "\n"
      ],
      "metadata": {
        "id": "KkASbMaVCoZd"
      }
    },
    {
      "cell_type": "code",
      "source": [
        "list = []\n",
        "print(\"Intial blank List:\", list)\n",
        "\n",
        "# Adding elements using append()\n",
        "\n",
        "list.append(5)\n",
        "list.append(6)\n",
        "list.append(7)\n",
        "print(\"\\nAfter adding the elements in the List: \")\n",
        "print(list)\n",
        "\n",
        "#Adding elements using iterator\n",
        "\n",
        "for i in range(5, 7):\n",
        "  list.append(i)\n",
        "  print(\"\\nAfter adding the elements from 5-6: \")\n",
        "  print(list)\n",
        "\n",
        "#Adding Tuple to the list\n",
        "\n",
        "list.append((5,6))\n",
        "print(\"\\nAfter adding the tuple to the list: \")\n",
        "print(list)\n",
        "\n",
        "# Addition of List to the List\n",
        "\n",
        "list2 = ['Python', 'Programs']\n",
        "list.append(list2)\n",
        "print(\"\\nAfter adding list2 to list: \")\n",
        "print(list)\n"
      ],
      "metadata": {
        "colab": {
          "base_uri": "https://localhost:8080/"
        },
        "id": "fd8ImWpkCsGT",
        "outputId": "68a24139-be36-4dd4-c64c-ca4f8be6f81c"
      },
      "execution_count": 21,
      "outputs": [
        {
          "output_type": "stream",
          "name": "stdout",
          "text": [
            "Intial blank List: []\n",
            "\n",
            "After adding the elements in the List: \n",
            "[5, 6, 7]\n",
            "\n",
            "After adding the elements from 5-6: \n",
            "[5, 6, 7, 5]\n",
            "\n",
            "After adding the elements from 5-6: \n",
            "[5, 6, 7, 5, 6]\n",
            "\n",
            "After adding the tuple to the list: \n",
            "[5, 6, 7, 5, 6, (5, 6)]\n",
            "\n",
            "After adding list2 to list: \n",
            "[5, 6, 7, 5, 6, (5, 6), ['Python', 'Programs']]\n"
          ]
        }
      ]
    },
    {
      "cell_type": "markdown",
      "source": [
        "# Using insert() method for desired position"
      ],
      "metadata": {
        "id": "6pj-UXAkFSTI"
      }
    },
    {
      "cell_type": "code",
      "source": [
        "list1 = [1,2,5,7]\n",
        "print(\"\\nInitial List: \")\n",
        "print(list1)\n",
        "\n",
        "# Adding elements to the desired position\n",
        "\n",
        "list1.insert(2, 3)\n",
        "list1.insert(3, 4)\n",
        "list1.insert(5, 6)\n",
        "\n",
        "print(\"\\nList after inserting elements: \")\n",
        "print(list1)"
      ],
      "metadata": {
        "colab": {
          "base_uri": "https://localhost:8080/"
        },
        "id": "Gurk-NqgFWG0",
        "outputId": "6b48a57f-a5f9-463a-f7be-2713240aceb7"
      },
      "execution_count": 24,
      "outputs": [
        {
          "output_type": "stream",
          "name": "stdout",
          "text": [
            "\n",
            "Initial List: \n",
            "[1, 2, 5, 7]\n",
            "\n",
            "List after inserting elements: \n",
            "[1, 2, 3, 4, 5, 6, 7]\n"
          ]
        }
      ]
    },
    {
      "cell_type": "markdown",
      "source": [
        "# Using extend() method for adding multiple lists at same time"
      ],
      "metadata": {
        "id": "uDK52pwFGyZv"
      }
    },
    {
      "cell_type": "code",
      "source": [
        "List = [1, 2, 3, 4]\n",
        "print(\"Initial List: \")\n",
        "print(List)\n",
        "\n",
        "# Addition of multiple elements to the list\n",
        "List.extend([5, 'Python', 'Program'])\n",
        "print(\"\\nList after performing Extend Operation: \")\n",
        "print(List)\n"
      ],
      "metadata": {
        "colab": {
          "base_uri": "https://localhost:8080/"
        },
        "id": "s08YNrf6GScO",
        "outputId": "f0c0bb7c-cc1d-4d7a-b307-998621d51927"
      },
      "execution_count": 25,
      "outputs": [
        {
          "output_type": "stream",
          "name": "stdout",
          "text": [
            "Initial List: \n",
            "[1, 2, 3, 4]\n",
            "\n",
            "List after performing Extend Operation: \n",
            "[1, 2, 3, 4, 5, 'Python', 'Program']\n"
          ]
        }
      ]
    },
    {
      "cell_type": "markdown",
      "source": [
        "# Reversing a List"
      ],
      "metadata": {
        "id": "tMdQKzRnHLZ7"
      }
    },
    {
      "cell_type": "code",
      "source": [
        "mylist = [1, 2, 3, 4, 5, 'Program', 'Python']\n",
        "mylist.reverse()\n",
        "print(mylist)"
      ],
      "metadata": {
        "colab": {
          "base_uri": "https://localhost:8080/"
        },
        "id": "9QneDT4HHMqJ",
        "outputId": "aaca33a9-6083-4568-a21e-65ba4f7eda89"
      },
      "execution_count": 29,
      "outputs": [
        {
          "output_type": "stream",
          "name": "stdout",
          "text": [
            "['Python', 'Program', 5, 4, 3, 2, 1]\n",
            "<list_reverseiterator object at 0x7b4c1ed98eb0>\n"
          ]
        }
      ]
    },
    {
      "cell_type": "markdown",
      "source": [
        "# Removing Elements from the List"
      ],
      "metadata": {
        "id": "TXxHTQTBHpLx"
      }
    },
    {
      "cell_type": "code",
      "source": [
        "List = [1, 2, 3, 4, 5, 6, 7, 8, 9, 10, 11, 12]\n",
        "# Removing elements from List\n",
        "\n",
        "List.remove(11)\n",
        "List.remove(12)\n",
        "print(\"\\nList after Removal of two elements: \")\n",
        "print(List)\n",
        "\n",
        "List1 = [1, 2, 3, 4, 5, 6,\n",
        "        7, 8, 9, 10, 11, 12]\n",
        "\n",
        "# Removing elements from List using iterator method\n",
        "for i in range(9, 13):\n",
        "    List1.remove(i)\n",
        "print(\"\\nList after Removing a range of elements: \")\n",
        "print(List1)\n",
        "\n",
        "# using Pop Method\n",
        "List2 = [1, 2, 3, 4, 5]\n",
        "\n",
        "List2.pop()\n",
        "print(\"\\nList after popping an element: \")\n",
        "print(List2)\n",
        "\n",
        "# Removing element at a specific location from the\n",
        "\n",
        "List2.pop(2)\n",
        "print(\"\\nList after popping a specific element: \")\n",
        "print(List2)"
      ],
      "metadata": {
        "colab": {
          "base_uri": "https://localhost:8080/"
        },
        "id": "BeS8IW4-Hskh",
        "outputId": "7840886e-6e4c-4f1f-dbab-5771d3069dc0"
      },
      "execution_count": 37,
      "outputs": [
        {
          "output_type": "stream",
          "name": "stdout",
          "text": [
            "\n",
            "List after Removal of two elements: \n",
            "[1, 2, 3, 4, 5, 6, 7, 8, 9, 10]\n",
            "\n",
            "List after Removing a range of elements: \n",
            "[1, 2, 3, 4, 5, 6, 7, 8]\n",
            "\n",
            "List after popping an element: \n",
            "[1, 2, 3, 4]\n",
            "\n",
            "List after popping a specific element: \n",
            "[1, 2, 4]\n"
          ]
        }
      ]
    },
    {
      "cell_type": "markdown",
      "source": [
        "# Slicing of a List"
      ],
      "metadata": {
        "id": "WwgGSQlqJWDK"
      }
    },
    {
      "cell_type": "code",
      "source": [
        "List = ['G', 'E', 'E', 'K', 'S', 'F',\n",
        "        'O', 'R', 'G', 'E', 'E', 'K', 'S']\n",
        "print(\"Initial List: \")\n",
        "print(List)\n",
        "\n",
        "# Print elements of a range using Slice operation\n",
        "Sliced_List = List[3:8]\n",
        "print(\"\\nSlicing elements in a range 3-8: \")\n",
        "print(Sliced_List)\n",
        "\n",
        "# Print elements from a pre-defined point to end\n",
        "Sliced_List = List[5:]\n",
        "print(\"\\nElements sliced from 5th \"\n",
        "      \"element till the end: \")\n",
        "print(Sliced_List)\n",
        "\n",
        "# Printing elements from beginning till end\n",
        "Sliced_List = List[:]\n",
        "print(\"\\nPrinting all elements using slice operation: \")\n",
        "print(Sliced_List)"
      ],
      "metadata": {
        "colab": {
          "base_uri": "https://localhost:8080/"
        },
        "id": "tkLRZMlmJXDX",
        "outputId": "0aabe7d5-8c73-43bc-a4b2-974015a64f2b"
      },
      "execution_count": 38,
      "outputs": [
        {
          "output_type": "stream",
          "name": "stdout",
          "text": [
            "Initial List: \n",
            "['G', 'E', 'E', 'K', 'S', 'F', 'O', 'R', 'G', 'E', 'E', 'K', 'S']\n",
            "\n",
            "Slicing elements in a range 3-8: \n",
            "['K', 'S', 'F', 'O', 'R']\n",
            "\n",
            "Elements sliced from 5th element till the end: \n",
            "['F', 'O', 'R', 'G', 'E', 'E', 'K', 'S']\n",
            "\n",
            "Printing all elements using slice operation: \n",
            "['G', 'E', 'E', 'K', 'S', 'F', 'O', 'R', 'G', 'E', 'E', 'K', 'S']\n"
          ]
        }
      ]
    },
    {
      "cell_type": "markdown",
      "source": [
        "# Negative index List slicing"
      ],
      "metadata": {
        "id": "ej6W7q9FJ7hF"
      }
    },
    {
      "cell_type": "code",
      "source": [
        "List = ['G', 'E', 'E', 'K', 'S', 'F',\n",
        "        'O', 'R', 'G', 'E', 'E', 'K', 'S']\n",
        "print(\"Initial List: \")\n",
        "print(List)\n",
        "\n",
        "# Print elements from beginning to a pre-defined point using Slice\n",
        "Sliced_List = List[:-6]\n",
        "print(\"\\nElements sliced till 6th element from last: \")\n",
        "print(Sliced_List)\n",
        "\n",
        "# Print elements of a range using negative index List slicing\n",
        "Sliced_List = List[-6:-1]\n",
        "print(\"\\nElements sliced from index -6 to -1\")\n",
        "print(Sliced_List)\n",
        "\n",
        "# Printing elements in reverse using Slice operation\n",
        "Sliced_List = List[::-1]\n",
        "print(\"\\nPrinting List in reverse: \")\n",
        "print(Sliced_List)"
      ],
      "metadata": {
        "colab": {
          "base_uri": "https://localhost:8080/"
        },
        "id": "YbH8Pvq_J8sN",
        "outputId": "80dc2eb3-5645-4a92-caf0-fcf34b952f72"
      },
      "execution_count": 41,
      "outputs": [
        {
          "output_type": "stream",
          "name": "stdout",
          "text": [
            "Initial List: \n",
            "['G', 'E', 'E', 'K', 'S', 'F', 'O', 'R', 'G', 'E', 'E', 'K', 'S']\n",
            "\n",
            "Elements sliced till 6th element from last: \n",
            "['G', 'E', 'E', 'K', 'S', 'F', 'O']\n",
            "\n",
            "Elements sliced from index -6 to -1\n",
            "['R', 'G', 'E', 'E', 'K']\n",
            "\n",
            "Printing List in reverse: \n",
            "['S', 'K', 'E', 'E', 'G', 'R', 'O', 'F', 'S', 'K', 'E', 'E', 'G']\n"
          ]
        }
      ]
    }
  ]
}